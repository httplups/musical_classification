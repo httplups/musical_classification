{
 "cells": [
  {
   "cell_type": "code",
   "execution_count": 1,
   "metadata": {
    "_cell_guid": "b1076dfc-b9ad-4769-8c92-a6c4dae69d19",
    "_uuid": "8f2839f25d086af736a60e9eeb907d3b93b6e0e5"
   },
   "outputs": [],
   "source": [
    "# This Python 3 environment comes with many helpful analytics libraries installed\n",
    "# It is defined by the kaggle/python docker image: https://github.com/kaggle/docker-python\n",
    "# For example, here's several helpful packages to load in \n",
    "\n",
    "import matplotlib.pyplot as plt\n",
    "import numpy as np # linear algebra\n",
    "import pandas as pd\n",
    "import librosa\n",
    "import librosa.display\n",
    "import os"
   ]
  },
  {
   "cell_type": "markdown",
   "metadata": {},
   "source": [
    "# 1. Importando os Arquivos de Áudio"
   ]
  },
  {
   "cell_type": "markdown",
   "metadata": {},
   "source": [
    "Importando 100 músicas de diferentes gêneros musicais. Dependendo do gênero musical identificado no diretório, já fazemos o rótulo que será utilizado posteriormente na predição."
   ]
  },
  {
   "cell_type": "code",
   "execution_count": 2,
   "metadata": {},
   "outputs": [],
   "source": [
    "GENRES = ['classical','hiphop']\n",
    "num_lines = sum(1 for line in open('/kaggle/input/audio-path/audio_path.txt'))\n",
    "num_lines\n",
    "\n",
    "rotulos = []\n",
    "\n",
    "file = open(\"/kaggle/input/audio-path/audio_path.txt\", \"r\")\n",
    "paths = []\n",
    "for i, line in enumerate(file):\n",
    "    \n",
    "    for j, genre in enumerate(GENRES):\n",
    "        if genre in line:\n",
    "            rotulos.append(j)\n",
    "            if (i < num_lines -1):\n",
    "                paths.append(line[:-1])\n",
    "            else:\n",
    "               paths.append(line) \n",
    "    \n",
    "paths = np.asarray(paths)\n",
    "rotulos = np.asarray(rotulos)\n",
    "\n"
   ]
  },
  {
   "cell_type": "code",
   "execution_count": 3,
   "metadata": {},
   "outputs": [],
   "source": [
    "def import_signal(path):\n",
    "    s, sr = librosa.core.load(path)\n",
    "    # slice em 660000 pois é o minimo de todos os audios\n",
    "    return s[:660000]\n",
    "\n",
    "\n",
    "signals = []\n",
    "\n",
    "for p in paths:\n",
    "    signals.append(import_signal(p))\n",
    "\n",
    "signals = np.asarray(signals)\n"
   ]
  },
  {
   "cell_type": "markdown",
   "metadata": {},
   "source": [
    "# 2. Transformada de Fourier de Curto Termo"
   ]
  },
  {
   "cell_type": "markdown",
   "metadata": {},
   "source": [
    "**hop_length** : int > 0 [scalar] - Usamos 1024\n",
    "\n",
    "    number of audio samples between adjacent STFT columns."
   ]
  },
  {
   "cell_type": "code",
   "execution_count": 4,
   "metadata": {},
   "outputs": [
    {
     "data": {
      "text/plain": [
       "(200, 1025, 645)"
      ]
     },
     "execution_count": 4,
     "metadata": {},
     "output_type": "execute_result"
    }
   ],
   "source": [
    "# return magnitude S\n",
    "def stft(signal):\n",
    "    S, phase = librosa.magphase(np.abs(librosa.stft(signal, hop_length=1024)))\n",
    "    return S\n",
    "\n",
    "signals_stft = []\n",
    "for s in signals:\n",
    "    signals_stft.append(stft(s))\n",
    "\n",
    "signals_stft = np.asarray(signals_stft)\n",
    "signals_stft.shape\n",
    "\n"
   ]
  },
  {
   "cell_type": "markdown",
   "metadata": {},
   "source": [
    "# 4. Features"
   ]
  },
  {
   "cell_type": "code",
   "execution_count": 5,
   "metadata": {},
   "outputs": [],
   "source": [
    "def get_features(signals_stft, rotulos):\n",
    "    def get_centroid(S):\n",
    "        return librosa.feature.spectral_centroid(S=S)\n",
    "    def get_flatness(S):\n",
    "        return librosa.feature.spectral_flatness(S=S)\n",
    "    def get_rms(s):\n",
    "        return librosa.feature.rms(s, hop_length=1024)\n",
    "\n",
    "    info = {'Centroid Mean':[], \n",
    "        'Centroid STD': [], \n",
    "        'Flatness Mean':[],\n",
    "        'Flatness STD':[],\n",
    "        'RMS':[],\n",
    "        'Target': []} \n",
    "\n",
    "    \n",
    "    for s, rotulo in zip(signals_stft, rotulos):\n",
    "      \n",
    "        info['Target'].append(rotulo)\n",
    "        \n",
    "        '''\n",
    "            Obtendo centroide, flatness e RMS\n",
    "        '''\n",
    "        c = get_centroid(s)\n",
    "        c = c[0]\n",
    "        info['Centroid Mean'].append(np.mean(c))\n",
    "        info['Centroid STD'].append(np.std(c))\n",
    "        \n",
    "        \n",
    "        f = get_flatness(s)\n",
    "        f = f[0]\n",
    "        info['Flatness Mean'].append(np.mean(f))\n",
    "        info['Flatness STD'].append(np.std(f))\n",
    "        \n",
    "        r = get_rms(s)\n",
    "        r = round(r[0][0],3)\n",
    "        info['RMS'].append(r)\n",
    "        \n",
    "        \n",
    "        \n",
    "    return pd.DataFrame(info)"
   ]
  },
  {
   "cell_type": "code",
   "execution_count": 6,
   "metadata": {},
   "outputs": [
    {
     "data": {
      "text/html": [
       "<div>\n",
       "<style scoped>\n",
       "    .dataframe tbody tr th:only-of-type {\n",
       "        vertical-align: middle;\n",
       "    }\n",
       "\n",
       "    .dataframe tbody tr th {\n",
       "        vertical-align: top;\n",
       "    }\n",
       "\n",
       "    .dataframe thead th {\n",
       "        text-align: right;\n",
       "    }\n",
       "</style>\n",
       "<table border=\"1\" class=\"dataframe\">\n",
       "  <thead>\n",
       "    <tr style=\"text-align: right;\">\n",
       "      <th></th>\n",
       "      <th>Centroid Mean</th>\n",
       "      <th>Centroid STD</th>\n",
       "      <th>Flatness Mean</th>\n",
       "      <th>Flatness STD</th>\n",
       "      <th>RMS</th>\n",
       "      <th>Target</th>\n",
       "    </tr>\n",
       "  </thead>\n",
       "  <tbody>\n",
       "    <tr>\n",
       "      <th>0</th>\n",
       "      <td>1369.815653</td>\n",
       "      <td>417.092401</td>\n",
       "      <td>0.000428</td>\n",
       "      <td>0.000407</td>\n",
       "      <td>0.270</td>\n",
       "      <td>0</td>\n",
       "    </tr>\n",
       "    <tr>\n",
       "      <th>1</th>\n",
       "      <td>1079.923786</td>\n",
       "      <td>382.111172</td>\n",
       "      <td>0.000699</td>\n",
       "      <td>0.001171</td>\n",
       "      <td>0.073</td>\n",
       "      <td>0</td>\n",
       "    </tr>\n",
       "    <tr>\n",
       "      <th>2</th>\n",
       "      <td>1253.252933</td>\n",
       "      <td>241.370703</td>\n",
       "      <td>0.000569</td>\n",
       "      <td>0.000519</td>\n",
       "      <td>0.508</td>\n",
       "      <td>0</td>\n",
       "    </tr>\n",
       "    <tr>\n",
       "      <th>3</th>\n",
       "      <td>1179.890112</td>\n",
       "      <td>335.870810</td>\n",
       "      <td>0.000605</td>\n",
       "      <td>0.001549</td>\n",
       "      <td>0.111</td>\n",
       "      <td>0</td>\n",
       "    </tr>\n",
       "    <tr>\n",
       "      <th>4</th>\n",
       "      <td>1127.289993</td>\n",
       "      <td>352.918987</td>\n",
       "      <td>0.000602</td>\n",
       "      <td>0.000739</td>\n",
       "      <td>0.117</td>\n",
       "      <td>0</td>\n",
       "    </tr>\n",
       "    <tr>\n",
       "      <th>...</th>\n",
       "      <td>...</td>\n",
       "      <td>...</td>\n",
       "      <td>...</td>\n",
       "      <td>...</td>\n",
       "      <td>...</td>\n",
       "      <td>...</td>\n",
       "    </tr>\n",
       "    <tr>\n",
       "      <th>195</th>\n",
       "      <td>2343.619846</td>\n",
       "      <td>924.105877</td>\n",
       "      <td>0.029577</td>\n",
       "      <td>0.037983</td>\n",
       "      <td>2.373</td>\n",
       "      <td>1</td>\n",
       "    </tr>\n",
       "    <tr>\n",
       "      <th>196</th>\n",
       "      <td>3085.100354</td>\n",
       "      <td>778.406455</td>\n",
       "      <td>0.039486</td>\n",
       "      <td>0.038355</td>\n",
       "      <td>2.785</td>\n",
       "      <td>1</td>\n",
       "    </tr>\n",
       "    <tr>\n",
       "      <th>197</th>\n",
       "      <td>2433.040779</td>\n",
       "      <td>779.302227</td>\n",
       "      <td>0.017115</td>\n",
       "      <td>0.030176</td>\n",
       "      <td>2.104</td>\n",
       "      <td>1</td>\n",
       "    </tr>\n",
       "    <tr>\n",
       "      <th>198</th>\n",
       "      <td>2552.203926</td>\n",
       "      <td>1061.967549</td>\n",
       "      <td>0.034868</td>\n",
       "      <td>0.063767</td>\n",
       "      <td>0.417</td>\n",
       "      <td>1</td>\n",
       "    </tr>\n",
       "    <tr>\n",
       "      <th>199</th>\n",
       "      <td>2857.560008</td>\n",
       "      <td>985.664164</td>\n",
       "      <td>0.027083</td>\n",
       "      <td>0.040371</td>\n",
       "      <td>3.071</td>\n",
       "      <td>1</td>\n",
       "    </tr>\n",
       "  </tbody>\n",
       "</table>\n",
       "<p>200 rows × 6 columns</p>\n",
       "</div>"
      ],
      "text/plain": [
       "     Centroid Mean  Centroid STD  Flatness Mean  Flatness STD    RMS  Target\n",
       "0      1369.815653    417.092401       0.000428      0.000407  0.270       0\n",
       "1      1079.923786    382.111172       0.000699      0.001171  0.073       0\n",
       "2      1253.252933    241.370703       0.000569      0.000519  0.508       0\n",
       "3      1179.890112    335.870810       0.000605      0.001549  0.111       0\n",
       "4      1127.289993    352.918987       0.000602      0.000739  0.117       0\n",
       "..             ...           ...            ...           ...    ...     ...\n",
       "195    2343.619846    924.105877       0.029577      0.037983  2.373       1\n",
       "196    3085.100354    778.406455       0.039486      0.038355  2.785       1\n",
       "197    2433.040779    779.302227       0.017115      0.030176  2.104       1\n",
       "198    2552.203926   1061.967549       0.034868      0.063767  0.417       1\n",
       "199    2857.560008    985.664164       0.027083      0.040371  3.071       1\n",
       "\n",
       "[200 rows x 6 columns]"
      ]
     },
     "execution_count": 6,
     "metadata": {},
     "output_type": "execute_result"
    }
   ],
   "source": [
    "df = get_features(signals_stft, rotulos)\n",
    "df"
   ]
  },
  {
   "cell_type": "markdown",
   "metadata": {},
   "source": [
    "# 6. Treinando o modelo"
   ]
  },
  {
   "cell_type": "markdown",
   "metadata": {},
   "source": [
    "# 6.1 Normalizando os dados"
   ]
  },
  {
   "cell_type": "code",
   "execution_count": 7,
   "metadata": {},
   "outputs": [],
   "source": [
    "from sklearn.preprocessing import StandardScaler"
   ]
  },
  {
   "cell_type": "code",
   "execution_count": 8,
   "metadata": {},
   "outputs": [],
   "source": [
    "scaler = StandardScaler()\n",
    "\n",
    "X,y = df.iloc[:,0:-1], df['Target'].values\n",
    "scaler.fit(X)\n",
    "X = scaler.transform(X)"
   ]
  },
  {
   "cell_type": "markdown",
   "metadata": {},
   "source": [
    "Dividindo o dataset em dados de treino e teste"
   ]
  },
  {
   "cell_type": "code",
   "execution_count": 9,
   "metadata": {},
   "outputs": [
    {
     "name": "stdout",
     "output_type": "stream",
     "text": [
      "[-1.30515445 -1.31647098 -0.7021554  -0.67811451 -0.99398224]\n",
      "0\n"
     ]
    }
   ],
   "source": [
    "# splitting the data into training and test sets (80:20)\n",
    "from sklearn.model_selection import train_test_split\n",
    "X_train, X_test, y_train, y_test = train_test_split(X, y, test_size=0.2, random_state=42)\n",
    "\n",
    "print(X_train[0])\n",
    "print(y_train[0])\n",
    "\n"
   ]
  },
  {
   "cell_type": "markdown",
   "metadata": {},
   "source": [
    "# 6.2 Escolhendo o número k de vizinhos"
   ]
  },
  {
   "cell_type": "code",
   "execution_count": 10,
   "metadata": {},
   "outputs": [],
   "source": [
    "from sklearn.neighbors import KNeighborsClassifier\n",
    "from sklearn import metrics"
   ]
  },
  {
   "cell_type": "code",
   "execution_count": 11,
   "metadata": {},
   "outputs": [
    {
     "name": "stdout",
     "output_type": "stream",
     "text": [
      "{1: 1.0, 2: 1.0, 3: 1.0, 4: 1.0, 5: 1.0, 6: 1.0, 7: 1.0, 8: 1.0, 9: 1.0, 10: 0.975, 11: 1.0, 12: 0.975, 13: 0.975, 14: 0.975, 15: 0.975, 16: 0.975, 17: 0.975, 18: 0.975, 19: 0.975, 20: 0.975, 21: 0.975, 22: 0.975, 23: 0.975, 24: 0.975, 25: 0.975, 26: 0.925, 27: 0.975, 28: 0.925, 29: 0.975, 30: 0.95}\n"
     ]
    }
   ],
   "source": [
    "#Try running from k=1 through 30 and record testing accuracy\n",
    "k_range = range(1,31)\n",
    "scores = {}\n",
    "scores_list = []\n",
    "for k in k_range:\n",
    "        knn = KNeighborsClassifier(n_neighbors = k)\n",
    "        knn.fit(X_train,y_train)\n",
    "        y_pred = knn.predict(X_test)\n",
    "        scores[k] = metrics.accuracy_score(y_test,y_pred)\n",
    "        scores_list.append(metrics.accuracy_score(y_test,y_pred))\n",
    "\n",
    "print(scores)\n"
   ]
  },
  {
   "cell_type": "code",
   "execution_count": 12,
   "metadata": {},
   "outputs": [
    {
     "data": {
      "image/png": "[encoded data removed]",
      "text/plain": [
       "<Figure size 720x576 with 1 Axes>"
      ]
     },
     "metadata": {
      "needs_background": "light"
     },
     "output_type": "display_data"
    }
   ],
   "source": [
    "def plot_scores(x,y):\n",
    "    fig, a = plt.subplots(1, figsize = (10, 8))\n",
    "    title = \"Accuracy Score by K values\"\n",
    "    plt.title(title)\n",
    "    plt.xlabel('Value of K for KNN')\n",
    "    plt.ylabel('Testing Accuracy')\n",
    "    a.plot(x, y)\n",
    "    \n",
    "plot_scores(list(k_range), scores_list)"
   ]
  },
  {
   "cell_type": "markdown",
   "metadata": {},
   "source": [
    "# 6.3 Treinando o modelo com k de maior acurácia"
   ]
  },
  {
   "cell_type": "code",
   "execution_count": 13,
   "metadata": {},
   "outputs": [
    {
     "name": "stdout",
     "output_type": "stream",
     "text": [
      "1\n",
      "[0 0 0 1 1 1 0 1 1 0 0 1 1 0 1 1 0 1 0 0 1 0 1 0 0 0 0 0 1 1 0 0 0 0 1 1 1\n",
      " 1 1 0]\n"
     ]
    },
    {
     "data": {
      "text/plain": [
       "1.0"
      ]
     },
     "execution_count": 13,
     "metadata": {},
     "output_type": "execute_result"
    }
   ],
   "source": [
    "k = max(scores, key= scores.get)\n",
    "print(k)\n",
    "knn = KNeighborsClassifier(n_neighbors=k)\n",
    "knn.fit(X_train,y_train)\n",
    "y_pred = knn.predict(X_test)\n",
    "print(y_pred)\n",
    "metrics.accuracy_score(y_test,y_pred)"
   ]
  },
  {
   "cell_type": "code",
   "execution_count": 14,
   "metadata": {},
   "outputs": [],
   "source": [
    "from sklearn.decomposition import PCA\n",
    "import pylab"
   ]
  },
  {
   "cell_type": "code",
   "execution_count": 15,
   "metadata": {},
   "outputs": [
    {
     "name": "stdout",
     "output_type": "stream",
     "text": [
      "[0.8372896  0.06726614]\n",
      "[0.79328199 0.10033574]\n"
     ]
    },
    {
     "data": {
      "image/png": "[encoded data removed]",
      "text/plain": [
       "<Figure size 432x288 with 1 Axes>"
      ]
     },
     "metadata": {
      "needs_background": "light"
     },
     "output_type": "display_data"
    },
    {
     "data": {
      "image/png": "[encoded data removed]",
      "text/plain": [
       "<Figure size 432x288 with 1 Axes>"
      ]
     },
     "metadata": {
      "needs_background": "light"
     },
     "output_type": "display_data"
    }
   ],
   "source": [
    "pca1 = PCA(2)\n",
    "trans_pca1 = pca1.fit_transform(X_test)\n",
    "print(pca1.explained_variance_ratio_)\n",
    "\n",
    "pca2 = PCA(2)\n",
    "pca2.fit(X_train)\n",
    "trans_pca2 = pca2.transform(X_test)\n",
    "print(pca2.explained_variance_ratio_)\n",
    "\n",
    "\n",
    "for i, _ in enumerate(GENRES):\n",
    "    pylab.scatter(trans_pca1[:,0][y_test==i], trans_pca1[:,1][y_test==i],cmap='jet',label=GENRES[i])\n",
    "pylab.xlabel(\"PC1\")\n",
    "pylab.ylabel(\"PC2\")\n",
    "pylab.legend()\n",
    "pylab.show()\n",
    "\n",
    "for i, _ in enumerate(GENRES):\n",
    "    pylab.scatter(trans_pca2[:,0][y_test==i], trans_pca2[:,1][y_test==i],cmap='jet',label=GENRES[i])\n",
    "pylab.xlabel(\"PC1\")\n",
    "pylab.ylabel(\"PC2\")\n",
    "pylab.legend()\n",
    "pylab.show()\n",
    "\n",
    "\n"
   ]
  },
  {
   "cell_type": "markdown",
   "metadata": {},
   "source": [
    "E se utilizar o PCA no modelo de predição?"
   ]
  },
  {
   "cell_type": "code",
   "execution_count": 16,
   "metadata": {},
   "outputs": [
    {
     "name": "stdout",
     "output_type": "stream",
     "text": [
      "[0 0 0 1 1 1 0 1 1 0 0 1 1 0 1 1 0 1 0 0 1 0 1 0 0 0 0 0 1 0 0 0 0 0 0 1 1\n",
      " 1 1 0]\n"
     ]
    },
    {
     "data": {
      "text/plain": [
       "0.95"
      ]
     },
     "execution_count": 16,
     "metadata": {},
     "output_type": "execute_result"
    }
   ],
   "source": [
    "pca = PCA(2)\n",
    "X_train = pca.fit_transform(X_train)\n",
    "X_test = pca.transform(X_test)\n",
    "\n",
    "knn = KNeighborsClassifier(n_neighbors=k)\n",
    "knn.fit(X_train,y_train)\n",
    "y_pred = knn.predict(X_test)\n",
    "print(y_pred)\n",
    "metrics.accuracy_score(y_test,y_pred)"
   ]
  },
  {
   "cell_type": "code",
   "execution_count": 17,
   "metadata": {},
   "outputs": [],
   "source": [
    "import seaborn as sns"
   ]
  },
  {
   "cell_type": "code",
   "execution_count": 18,
   "metadata": {},
   "outputs": [
    {
     "data": {
      "text/html": [
       "<div>\n",
       "<style scoped>\n",
       "    .dataframe tbody tr th:only-of-type {\n",
       "        vertical-align: middle;\n",
       "    }\n",
       "\n",
       "    .dataframe tbody tr th {\n",
       "        vertical-align: top;\n",
       "    }\n",
       "\n",
       "    .dataframe thead th {\n",
       "        text-align: right;\n",
       "    }\n",
       "</style>\n",
       "<table border=\"1\" class=\"dataframe\">\n",
       "  <thead>\n",
       "    <tr style=\"text-align: right;\">\n",
       "      <th></th>\n",
       "      <th>PC1</th>\n",
       "      <th>PC2</th>\n",
       "      <th>Genres</th>\n",
       "    </tr>\n",
       "  </thead>\n",
       "  <tbody>\n",
       "    <tr>\n",
       "      <th>0</th>\n",
       "      <td>-1.097600</td>\n",
       "      <td>-0.248504</td>\n",
       "      <td>classical</td>\n",
       "    </tr>\n",
       "    <tr>\n",
       "      <th>1</th>\n",
       "      <td>-0.995230</td>\n",
       "      <td>0.166862</td>\n",
       "      <td>classical</td>\n",
       "    </tr>\n",
       "    <tr>\n",
       "      <th>2</th>\n",
       "      <td>-1.892526</td>\n",
       "      <td>-0.033422</td>\n",
       "      <td>classical</td>\n",
       "    </tr>\n",
       "    <tr>\n",
       "      <th>3</th>\n",
       "      <td>0.113304</td>\n",
       "      <td>-0.375544</td>\n",
       "      <td>hiphop</td>\n",
       "    </tr>\n",
       "    <tr>\n",
       "      <th>4</th>\n",
       "      <td>1.047575</td>\n",
       "      <td>0.484781</td>\n",
       "      <td>hiphop</td>\n",
       "    </tr>\n",
       "  </tbody>\n",
       "</table>\n",
       "</div>"
      ],
      "text/plain": [
       "        PC1       PC2     Genres\n",
       "0 -1.097600 -0.248504  classical\n",
       "1 -0.995230  0.166862  classical\n",
       "2 -1.892526 -0.033422  classical\n",
       "3  0.113304 -0.375544     hiphop\n",
       "4  1.047575  0.484781     hiphop"
      ]
     },
     "execution_count": 18,
     "metadata": {},
     "output_type": "execute_result"
    }
   ],
   "source": [
    "trans_pca1 = pd.DataFrame(trans_pca1)\n",
    "trans_pca1['Genres'] = [g for y in y_test for i, g in enumerate(GENRES) if y==i]\n",
    "trans_pca1.columns = ['PC1', 'PC2', 'Genres']\n",
    "trans_pca1.head()\n"
   ]
  },
  {
   "cell_type": "code",
   "execution_count": 19,
   "metadata": {},
   "outputs": [
    {
     "data": {
      "text/plain": [
       "<matplotlib.axes._subplots.AxesSubplot at 0x7ff74cf5e978>"
      ]
     },
     "execution_count": 19,
     "metadata": {},
     "output_type": "execute_result"
    },
    {
     "data": {
      "image/png": "[encoded data removed]",
      "text/plain": [
       "<Figure size 432x288 with 1 Axes>"
      ]
     },
     "metadata": {
      "needs_background": "light"
     },
     "output_type": "display_data"
    }
   ],
   "source": [
    "sns.scatterplot(x=trans_pca1['PC1'], y=trans_pca1['PC2'], hue=trans_pca1['Genres'])"
   ]
  },
  {
   "cell_type": "code",
   "execution_count": null,
   "metadata": {},
   "outputs": [],
   "source": []
  }
 ],
 "metadata": {
  "kernelspec": {
   "display_name": "Python 3",
   "language": "python",
   "name": "python3"
  },
  "language_info": {
   "codemirror_mode": {
    "name": "ipython",
    "version": 3
   },
   "file_extension": ".py",
   "mimetype": "text/x-python",
   "name": "python",
   "nbconvert_exporter": "python",
   "pygments_lexer": "ipython3",
   "version": "3.6.6"
  }
 },
 "nbformat": 4,
 "nbformat_minor": 4
}
